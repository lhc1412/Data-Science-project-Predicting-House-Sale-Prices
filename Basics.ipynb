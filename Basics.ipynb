{
 "cells": [
  {
   "cell_type": "markdown",
   "metadata": {
    "collapsed": true
   },
   "source": [
    "# Predicting House Sale Prices\n",
    "\n",
    "In this project, I will build machine learning modeles to  predict the house sales prices and use techniques like Feature Engineering, Feature selection and K-Flod to improve the models I built.\n",
    "\n",
    "I will work with housing data for the city of Ames, Iowa, United States from 2006 to 2010. There are more information about why the data was collected [here](https://www.tandfonline.com/doi/abs/10.1080/10691898.2011.11889627). Details regarding the different columns in the data can be found [here](https://s3.amazonaws.com/dq-content/307/data_description.txt).\n",
    "\n",
    "## Summary of results:\n",
    "\n",
    "I built a model which can be used to predict the house sale prices. Then I used several Feature Engineering techniques, Feature selection techniques and k parameter to set up a pipeline of functions that will let us quickly iterate on different models. __The RMES vaule has been decreased from 57088 at the beginning to 28976__."
   ]
  },
  {
   "cell_type": "markdown",
   "metadata": {},
   "source": [
    "## Reading in dataset"
   ]
  },
  {
   "cell_type": "code",
   "execution_count": 160,
   "metadata": {
    "collapsed": false
   },
   "outputs": [
    {
     "data": {
      "text/html": [
       "<div>\n",
       "<style scoped>\n",
       "    .dataframe tbody tr th:only-of-type {\n",
       "        vertical-align: middle;\n",
       "    }\n",
       "\n",
       "    .dataframe tbody tr th {\n",
       "        vertical-align: top;\n",
       "    }\n",
       "\n",
       "    .dataframe thead th {\n",
       "        text-align: right;\n",
       "    }\n",
       "</style>\n",
       "<table border=\"1\" class=\"dataframe\">\n",
       "  <thead>\n",
       "    <tr style=\"text-align: right;\">\n",
       "      <th></th>\n",
       "      <th>Order</th>\n",
       "      <th>PID</th>\n",
       "      <th>MS SubClass</th>\n",
       "      <th>MS Zoning</th>\n",
       "      <th>Lot Frontage</th>\n",
       "      <th>Lot Area</th>\n",
       "      <th>Street</th>\n",
       "      <th>Alley</th>\n",
       "      <th>Lot Shape</th>\n",
       "      <th>Land Contour</th>\n",
       "      <th>...</th>\n",
       "      <th>Pool Area</th>\n",
       "      <th>Pool QC</th>\n",
       "      <th>Fence</th>\n",
       "      <th>Misc Feature</th>\n",
       "      <th>Misc Val</th>\n",
       "      <th>Mo Sold</th>\n",
       "      <th>Yr Sold</th>\n",
       "      <th>Sale Type</th>\n",
       "      <th>Sale Condition</th>\n",
       "      <th>SalePrice</th>\n",
       "    </tr>\n",
       "  </thead>\n",
       "  <tbody>\n",
       "    <tr>\n",
       "      <th>0</th>\n",
       "      <td>1</td>\n",
       "      <td>526301100</td>\n",
       "      <td>20</td>\n",
       "      <td>RL</td>\n",
       "      <td>141.0</td>\n",
       "      <td>31770</td>\n",
       "      <td>Pave</td>\n",
       "      <td>NaN</td>\n",
       "      <td>IR1</td>\n",
       "      <td>Lvl</td>\n",
       "      <td>...</td>\n",
       "      <td>0</td>\n",
       "      <td>NaN</td>\n",
       "      <td>NaN</td>\n",
       "      <td>NaN</td>\n",
       "      <td>0</td>\n",
       "      <td>5</td>\n",
       "      <td>2010</td>\n",
       "      <td>WD</td>\n",
       "      <td>Normal</td>\n",
       "      <td>215000</td>\n",
       "    </tr>\n",
       "    <tr>\n",
       "      <th>1</th>\n",
       "      <td>2</td>\n",
       "      <td>526350040</td>\n",
       "      <td>20</td>\n",
       "      <td>RH</td>\n",
       "      <td>80.0</td>\n",
       "      <td>11622</td>\n",
       "      <td>Pave</td>\n",
       "      <td>NaN</td>\n",
       "      <td>Reg</td>\n",
       "      <td>Lvl</td>\n",
       "      <td>...</td>\n",
       "      <td>0</td>\n",
       "      <td>NaN</td>\n",
       "      <td>MnPrv</td>\n",
       "      <td>NaN</td>\n",
       "      <td>0</td>\n",
       "      <td>6</td>\n",
       "      <td>2010</td>\n",
       "      <td>WD</td>\n",
       "      <td>Normal</td>\n",
       "      <td>105000</td>\n",
       "    </tr>\n",
       "    <tr>\n",
       "      <th>2</th>\n",
       "      <td>3</td>\n",
       "      <td>526351010</td>\n",
       "      <td>20</td>\n",
       "      <td>RL</td>\n",
       "      <td>81.0</td>\n",
       "      <td>14267</td>\n",
       "      <td>Pave</td>\n",
       "      <td>NaN</td>\n",
       "      <td>IR1</td>\n",
       "      <td>Lvl</td>\n",
       "      <td>...</td>\n",
       "      <td>0</td>\n",
       "      <td>NaN</td>\n",
       "      <td>NaN</td>\n",
       "      <td>Gar2</td>\n",
       "      <td>12500</td>\n",
       "      <td>6</td>\n",
       "      <td>2010</td>\n",
       "      <td>WD</td>\n",
       "      <td>Normal</td>\n",
       "      <td>172000</td>\n",
       "    </tr>\n",
       "    <tr>\n",
       "      <th>3</th>\n",
       "      <td>4</td>\n",
       "      <td>526353030</td>\n",
       "      <td>20</td>\n",
       "      <td>RL</td>\n",
       "      <td>93.0</td>\n",
       "      <td>11160</td>\n",
       "      <td>Pave</td>\n",
       "      <td>NaN</td>\n",
       "      <td>Reg</td>\n",
       "      <td>Lvl</td>\n",
       "      <td>...</td>\n",
       "      <td>0</td>\n",
       "      <td>NaN</td>\n",
       "      <td>NaN</td>\n",
       "      <td>NaN</td>\n",
       "      <td>0</td>\n",
       "      <td>4</td>\n",
       "      <td>2010</td>\n",
       "      <td>WD</td>\n",
       "      <td>Normal</td>\n",
       "      <td>244000</td>\n",
       "    </tr>\n",
       "    <tr>\n",
       "      <th>4</th>\n",
       "      <td>5</td>\n",
       "      <td>527105010</td>\n",
       "      <td>60</td>\n",
       "      <td>RL</td>\n",
       "      <td>74.0</td>\n",
       "      <td>13830</td>\n",
       "      <td>Pave</td>\n",
       "      <td>NaN</td>\n",
       "      <td>IR1</td>\n",
       "      <td>Lvl</td>\n",
       "      <td>...</td>\n",
       "      <td>0</td>\n",
       "      <td>NaN</td>\n",
       "      <td>MnPrv</td>\n",
       "      <td>NaN</td>\n",
       "      <td>0</td>\n",
       "      <td>3</td>\n",
       "      <td>2010</td>\n",
       "      <td>WD</td>\n",
       "      <td>Normal</td>\n",
       "      <td>189900</td>\n",
       "    </tr>\n",
       "  </tbody>\n",
       "</table>\n",
       "<p>5 rows × 82 columns</p>\n",
       "</div>"
      ],
      "text/plain": [
       "   Order        PID  MS SubClass MS Zoning  Lot Frontage  Lot Area Street  \\\n",
       "0      1  526301100           20        RL         141.0     31770   Pave   \n",
       "1      2  526350040           20        RH          80.0     11622   Pave   \n",
       "2      3  526351010           20        RL          81.0     14267   Pave   \n",
       "3      4  526353030           20        RL          93.0     11160   Pave   \n",
       "4      5  527105010           60        RL          74.0     13830   Pave   \n",
       "\n",
       "  Alley Lot Shape Land Contour    ...     Pool Area Pool QC  Fence  \\\n",
       "0   NaN       IR1          Lvl    ...             0     NaN    NaN   \n",
       "1   NaN       Reg          Lvl    ...             0     NaN  MnPrv   \n",
       "2   NaN       IR1          Lvl    ...             0     NaN    NaN   \n",
       "3   NaN       Reg          Lvl    ...             0     NaN    NaN   \n",
       "4   NaN       IR1          Lvl    ...             0     NaN  MnPrv   \n",
       "\n",
       "  Misc Feature Misc Val Mo Sold Yr Sold Sale Type  Sale Condition  SalePrice  \n",
       "0          NaN        0       5    2010       WD           Normal     215000  \n",
       "1          NaN        0       6    2010       WD           Normal     105000  \n",
       "2         Gar2    12500       6    2010       WD           Normal     172000  \n",
       "3          NaN        0       4    2010       WD           Normal     244000  \n",
       "4          NaN        0       3    2010       WD           Normal     189900  \n",
       "\n",
       "[5 rows x 82 columns]"
      ]
     },
     "execution_count": 160,
     "metadata": {},
     "output_type": "execute_result"
    }
   ],
   "source": [
    "import pandas as pd\n",
    "import matplotlib.pyplot as plt\n",
    "import numpy as np\n",
    "from sklearn.metrics import mean_squared_error\n",
    "from sklearn.linear_model import LinearRegression\n",
    "from sklearn.model_selection import KFold\n",
    "\n",
    "housing = pd.read_csv('AmesHousing.tsv', delimiter = '\\t')\n",
    "\n",
    "# primary exploration of the dataset\n",
    "housing.head()"
   ]
  },
  {
   "cell_type": "markdown",
   "metadata": {},
   "source": [
    "## Creating primary functions\n",
    "\n",
    "In this session, I am going to create some base functions"
   ]
  },
  {
   "cell_type": "code",
   "execution_count": 189,
   "metadata": {
    "collapsed": false
   },
   "outputs": [
    {
     "name": "stdout",
     "output_type": "stream",
     "text": [
      "57088.25161263909\n"
     ]
    }
   ],
   "source": [
    "def transform_features(df):\n",
    "    '''\n",
    "    This function is designed to transform some features into useful features.\n",
    "    For now it has no use\n",
    "    '''\n",
    "    return df\n",
    "\n",
    "def select_features(df):\n",
    "    '''\n",
    "    This function is designed to select the feature column(s) and the traget column.\n",
    "    '''\n",
    "    return df[['Gr Liv Area', 'SalePrice']]\n",
    "\n",
    "def train_and_test(df):\n",
    "    '''\n",
    "    This function is designed to train and test the Linear Regression model\n",
    "    '''\n",
    "    train = df[:1460]\n",
    "    test = df[1460:]\n",
    "    \n",
    "    numeric_train = train.select_dtypes(include = ['integer', 'float'])\n",
    "    numeric_test = test.select_dtypes(include = ['integer', 'float'])\n",
    "    \n",
    "    \n",
    "    features = numeric_train.columns.tolist()\n",
    "    features.remove('SalePrice')\n",
    "    lr = LinearRegression()\n",
    "    lr.fit(numeric_train[features], numeric_train['SalePrice'])\n",
    "    predictions = lr.predict(numeric_test[features])\n",
    "    rmse = np.sqrt(mean_squared_error(predictions, numeric_test['SalePrice']))\n",
    "    return rmse\n",
    "\n",
    "# primary test of the functions\n",
    "transformed_housing = transform_features(housing)\n",
    "selected_housing = select_features(transformed_housing)\n",
    "rmse = train_and_test(selected_housing)\n",
    "\n",
    "print(rmse)"
   ]
  },
  {
   "cell_type": "markdown",
   "metadata": {},
   "source": [
    "## Feature Engineering\n",
    "\n",
    "\n",
    "### Missing values\n",
    "Handle missing values:\n",
    "- All columns:\n",
    "    - Drop any with 5% or more missing values __for now__.\n",
    "- Text columns:\n",
    "    - Drop any with 1 or more missing values __for now__.\n",
    "- Numerical columns:\n",
    "    - For columns with missing values, fill in with the most common value in that column\n",
    "    \n",
    "\n",
    "1: All columns: Drop any with 5% or more missing values for now."
   ]
  },
  {
   "cell_type": "code",
   "execution_count": 162,
   "metadata": {
    "collapsed": false
   },
   "outputs": [],
   "source": [
    "# find out the number of missing values in each column\n",
    "num_missing = housing.isnull().sum()"
   ]
  },
  {
   "cell_type": "code",
   "execution_count": 163,
   "metadata": {
    "collapsed": false
   },
   "outputs": [],
   "source": [
    "# filter out columns with 5% or more missing values\n",
    "drop_missing_cols = num_missing[num_missing/len(housing) >= 0.05].index\n",
    "housing = housing.drop(drop_missing_cols, axis=1)"
   ]
  },
  {
   "cell_type": "markdown",
   "metadata": {},
   "source": [
    "2: Text columns: Drop any with 1 or more missing values for now."
   ]
  },
  {
   "cell_type": "code",
   "execution_count": 164,
   "metadata": {
    "collapsed": false
   },
   "outputs": [],
   "source": [
    "# filter out text columns \n",
    "text_cols_mv = housing.select_dtypes(include=['object']).isnull().sum()\n",
    "\n",
    "# filter out text columns with 1 or more missing values\n",
    "drop_text_cols = text_cols_mv[text_cols_mv > 0].index\n",
    "housing = housing.drop(drop_text_cols, axis=1)"
   ]
  },
  {
   "cell_type": "markdown",
   "metadata": {},
   "source": [
    "3: Numerical columns: For columns with missing values, fill in with the most common value in that column"
   ]
  },
  {
   "cell_type": "code",
   "execution_count": 165,
   "metadata": {
    "collapsed": false
   },
   "outputs": [
    {
     "data": {
      "text/plain": [
       "Mas Vnr Area      23\n",
       "BsmtFin SF 1       1\n",
       "BsmtFin SF 2       1\n",
       "Bsmt Unf SF        1\n",
       "Total Bsmt SF      1\n",
       "Bsmt Full Bath     2\n",
       "Bsmt Half Bath     2\n",
       "Garage Cars        1\n",
       "Garage Area        1\n",
       "dtype: int64"
      ]
     },
     "execution_count": 165,
     "metadata": {},
     "output_type": "execute_result"
    }
   ],
   "source": [
    "# filter out numerical columns which need to be fixed\n",
    "numeric_cols_mv = housing.select_dtypes(include=['integer', 'float']).isnull().sum()\n",
    "fixing_num_cols = numeric_cols_mv[numeric_cols_mv > 0]\n",
    "fixing_num_cols"
   ]
  },
  {
   "cell_type": "code",
   "execution_count": 166,
   "metadata": {
    "collapsed": false
   },
   "outputs": [
    {
     "data": {
      "text/plain": [
       "0    64\n",
       "dtype: int64"
      ]
     },
     "execution_count": 166,
     "metadata": {},
     "output_type": "execute_result"
    }
   ],
   "source": [
    "# find out common value in those columns\n",
    "replacing_value = housing[fixing_num_cols.index].mode().to_dict(orient='records')[0]\n",
    "\n",
    "# replace missing vlaues\n",
    "housing = housing.fillna(replacing_value)\n",
    "\n",
    "# verify results\n",
    "housing.isnull().sum().value_counts()"
   ]
  },
  {
   "cell_type": "markdown",
   "metadata": {},
   "source": [
    "### Creating new features by combining other features"
   ]
  },
  {
   "cell_type": "code",
   "execution_count": 167,
   "metadata": {
    "collapsed": false
   },
   "outputs": [
    {
     "data": {
      "text/html": [
       "<div>\n",
       "<style scoped>\n",
       "    .dataframe tbody tr th:only-of-type {\n",
       "        vertical-align: middle;\n",
       "    }\n",
       "\n",
       "    .dataframe tbody tr th {\n",
       "        vertical-align: top;\n",
       "    }\n",
       "\n",
       "    .dataframe thead th {\n",
       "        text-align: right;\n",
       "    }\n",
       "</style>\n",
       "<table border=\"1\" class=\"dataframe\">\n",
       "  <thead>\n",
       "    <tr style=\"text-align: right;\">\n",
       "      <th></th>\n",
       "      <th>Order</th>\n",
       "      <th>PID</th>\n",
       "      <th>MS SubClass</th>\n",
       "      <th>MS Zoning</th>\n",
       "      <th>Lot Area</th>\n",
       "      <th>Street</th>\n",
       "      <th>Lot Shape</th>\n",
       "      <th>Land Contour</th>\n",
       "      <th>Utilities</th>\n",
       "      <th>Lot Config</th>\n",
       "      <th>...</th>\n",
       "      <th>3Ssn Porch</th>\n",
       "      <th>Screen Porch</th>\n",
       "      <th>Pool Area</th>\n",
       "      <th>Misc Val</th>\n",
       "      <th>Mo Sold</th>\n",
       "      <th>Yr Sold</th>\n",
       "      <th>Sale Type</th>\n",
       "      <th>Sale Condition</th>\n",
       "      <th>SalePrice</th>\n",
       "      <th>year_before_sale</th>\n",
       "    </tr>\n",
       "  </thead>\n",
       "  <tbody>\n",
       "    <tr>\n",
       "      <th>2180</th>\n",
       "      <td>2181</td>\n",
       "      <td>908154195</td>\n",
       "      <td>20</td>\n",
       "      <td>RL</td>\n",
       "      <td>39290</td>\n",
       "      <td>Pave</td>\n",
       "      <td>IR1</td>\n",
       "      <td>Bnk</td>\n",
       "      <td>AllPub</td>\n",
       "      <td>Inside</td>\n",
       "      <td>...</td>\n",
       "      <td>0</td>\n",
       "      <td>0</td>\n",
       "      <td>0</td>\n",
       "      <td>17000</td>\n",
       "      <td>10</td>\n",
       "      <td>2007</td>\n",
       "      <td>New</td>\n",
       "      <td>Partial</td>\n",
       "      <td>183850</td>\n",
       "      <td>-1</td>\n",
       "    </tr>\n",
       "  </tbody>\n",
       "</table>\n",
       "<p>1 rows × 65 columns</p>\n",
       "</div>"
      ],
      "text/plain": [
       "      Order        PID  MS SubClass MS Zoning  Lot Area Street Lot Shape  \\\n",
       "2180   2181  908154195           20        RL     39290   Pave       IR1   \n",
       "\n",
       "     Land Contour Utilities Lot Config        ...        3Ssn Porch  \\\n",
       "2180          Bnk    AllPub     Inside        ...                 0   \n",
       "\n",
       "     Screen Porch Pool Area Misc Val Mo Sold Yr Sold  Sale Type  \\\n",
       "2180            0         0    17000      10    2007        New   \n",
       "\n",
       "      Sale Condition  SalePrice  year_before_sale  \n",
       "2180         Partial     183850                -1  \n",
       "\n",
       "[1 rows x 65 columns]"
      ]
     },
     "execution_count": 167,
     "metadata": {},
     "output_type": "execute_result"
    }
   ],
   "source": [
    "# create new column year_before_sale\n",
    "housing['year_before_sale'] = housing['Yr Sold'] - housing['Year Built']\n",
    "\n",
    "# confirm there is no problemic data\n",
    "housing[housing['year_before_sale'] < 0 ]"
   ]
  },
  {
   "cell_type": "code",
   "execution_count": 168,
   "metadata": {
    "collapsed": false
   },
   "outputs": [
    {
     "data": {
      "text/html": [
       "<div>\n",
       "<style scoped>\n",
       "    .dataframe tbody tr th:only-of-type {\n",
       "        vertical-align: middle;\n",
       "    }\n",
       "\n",
       "    .dataframe tbody tr th {\n",
       "        vertical-align: top;\n",
       "    }\n",
       "\n",
       "    .dataframe thead th {\n",
       "        text-align: right;\n",
       "    }\n",
       "</style>\n",
       "<table border=\"1\" class=\"dataframe\">\n",
       "  <thead>\n",
       "    <tr style=\"text-align: right;\">\n",
       "      <th></th>\n",
       "      <th>Order</th>\n",
       "      <th>PID</th>\n",
       "      <th>MS SubClass</th>\n",
       "      <th>MS Zoning</th>\n",
       "      <th>Lot Area</th>\n",
       "      <th>Street</th>\n",
       "      <th>Lot Shape</th>\n",
       "      <th>Land Contour</th>\n",
       "      <th>Utilities</th>\n",
       "      <th>Lot Config</th>\n",
       "      <th>...</th>\n",
       "      <th>3Ssn Porch</th>\n",
       "      <th>Screen Porch</th>\n",
       "      <th>Pool Area</th>\n",
       "      <th>Misc Val</th>\n",
       "      <th>Mo Sold</th>\n",
       "      <th>Yr Sold</th>\n",
       "      <th>Sale Type</th>\n",
       "      <th>Sale Condition</th>\n",
       "      <th>SalePrice</th>\n",
       "      <th>year_before_sale</th>\n",
       "    </tr>\n",
       "  </thead>\n",
       "  <tbody>\n",
       "  </tbody>\n",
       "</table>\n",
       "<p>0 rows × 65 columns</p>\n",
       "</div>"
      ],
      "text/plain": [
       "Empty DataFrame\n",
       "Columns: [Order, PID, MS SubClass, MS Zoning, Lot Area, Street, Lot Shape, Land Contour, Utilities, Lot Config, Land Slope, Neighborhood, Condition 1, Condition 2, Bldg Type, House Style, Overall Qual, Overall Cond, Year Built, Year Remod/Add, Roof Style, Roof Matl, Exterior 1st, Exterior 2nd, Mas Vnr Area, Exter Qual, Exter Cond, Foundation, BsmtFin SF 1, BsmtFin SF 2, Bsmt Unf SF, Total Bsmt SF, Heating, Heating QC, Central Air, 1st Flr SF, 2nd Flr SF, Low Qual Fin SF, Gr Liv Area, Bsmt Full Bath, Bsmt Half Bath, Full Bath, Half Bath, Bedroom AbvGr, Kitchen AbvGr, Kitchen Qual, TotRms AbvGrd, Functional, Fireplaces, Garage Cars, Garage Area, Paved Drive, Wood Deck SF, Open Porch SF, Enclosed Porch, 3Ssn Porch, Screen Porch, Pool Area, Misc Val, Mo Sold, Yr Sold, Sale Type, Sale Condition, SalePrice, year_before_sale]\n",
       "Index: []\n",
       "\n",
       "[0 rows x 65 columns]"
      ]
     },
     "execution_count": 168,
     "metadata": {},
     "output_type": "execute_result"
    }
   ],
   "source": [
    "# drop problemic row\n",
    "housing = housing.drop([2180], axis = 0)\n",
    "\n",
    "# confirm there is no problemic data\n",
    "housing[housing['year_before_sale'] < 0 ]"
   ]
  },
  {
   "cell_type": "code",
   "execution_count": 169,
   "metadata": {
    "collapsed": false
   },
   "outputs": [
    {
     "data": {
      "text/html": [
       "<div>\n",
       "<style scoped>\n",
       "    .dataframe tbody tr th:only-of-type {\n",
       "        vertical-align: middle;\n",
       "    }\n",
       "\n",
       "    .dataframe tbody tr th {\n",
       "        vertical-align: top;\n",
       "    }\n",
       "\n",
       "    .dataframe thead th {\n",
       "        text-align: right;\n",
       "    }\n",
       "</style>\n",
       "<table border=\"1\" class=\"dataframe\">\n",
       "  <thead>\n",
       "    <tr style=\"text-align: right;\">\n",
       "      <th></th>\n",
       "      <th>Order</th>\n",
       "      <th>PID</th>\n",
       "      <th>MS SubClass</th>\n",
       "      <th>MS Zoning</th>\n",
       "      <th>Lot Area</th>\n",
       "      <th>Street</th>\n",
       "      <th>Lot Shape</th>\n",
       "      <th>Land Contour</th>\n",
       "      <th>Utilities</th>\n",
       "      <th>Lot Config</th>\n",
       "      <th>...</th>\n",
       "      <th>Screen Porch</th>\n",
       "      <th>Pool Area</th>\n",
       "      <th>Misc Val</th>\n",
       "      <th>Mo Sold</th>\n",
       "      <th>Yr Sold</th>\n",
       "      <th>Sale Type</th>\n",
       "      <th>Sale Condition</th>\n",
       "      <th>SalePrice</th>\n",
       "      <th>year_before_sale</th>\n",
       "      <th>year_since_remod</th>\n",
       "    </tr>\n",
       "  </thead>\n",
       "  <tbody>\n",
       "    <tr>\n",
       "      <th>1702</th>\n",
       "      <td>1703</td>\n",
       "      <td>528120010</td>\n",
       "      <td>60</td>\n",
       "      <td>RL</td>\n",
       "      <td>16659</td>\n",
       "      <td>Pave</td>\n",
       "      <td>IR1</td>\n",
       "      <td>Lvl</td>\n",
       "      <td>AllPub</td>\n",
       "      <td>Corner</td>\n",
       "      <td>...</td>\n",
       "      <td>0</td>\n",
       "      <td>0</td>\n",
       "      <td>0</td>\n",
       "      <td>6</td>\n",
       "      <td>2007</td>\n",
       "      <td>New</td>\n",
       "      <td>Partial</td>\n",
       "      <td>260116</td>\n",
       "      <td>0</td>\n",
       "      <td>-1</td>\n",
       "    </tr>\n",
       "    <tr>\n",
       "      <th>2181</th>\n",
       "      <td>2182</td>\n",
       "      <td>908154205</td>\n",
       "      <td>60</td>\n",
       "      <td>RL</td>\n",
       "      <td>40094</td>\n",
       "      <td>Pave</td>\n",
       "      <td>IR1</td>\n",
       "      <td>Bnk</td>\n",
       "      <td>AllPub</td>\n",
       "      <td>Inside</td>\n",
       "      <td>...</td>\n",
       "      <td>0</td>\n",
       "      <td>0</td>\n",
       "      <td>0</td>\n",
       "      <td>10</td>\n",
       "      <td>2007</td>\n",
       "      <td>New</td>\n",
       "      <td>Partial</td>\n",
       "      <td>184750</td>\n",
       "      <td>0</td>\n",
       "      <td>-1</td>\n",
       "    </tr>\n",
       "  </tbody>\n",
       "</table>\n",
       "<p>2 rows × 66 columns</p>\n",
       "</div>"
      ],
      "text/plain": [
       "      Order        PID  MS SubClass MS Zoning  Lot Area Street Lot Shape  \\\n",
       "1702   1703  528120010           60        RL     16659   Pave       IR1   \n",
       "2181   2182  908154205           60        RL     40094   Pave       IR1   \n",
       "\n",
       "     Land Contour Utilities Lot Config        ...        Screen Porch  \\\n",
       "1702          Lvl    AllPub     Corner        ...                   0   \n",
       "2181          Bnk    AllPub     Inside        ...                   0   \n",
       "\n",
       "     Pool Area Misc Val Mo Sold Yr Sold Sale Type  Sale Condition  SalePrice  \\\n",
       "1702         0        0       6    2007       New         Partial     260116   \n",
       "2181         0        0      10    2007       New         Partial     184750   \n",
       "\n",
       "      year_before_sale  year_since_remod  \n",
       "1702                 0                -1  \n",
       "2181                 0                -1  \n",
       "\n",
       "[2 rows x 66 columns]"
      ]
     },
     "execution_count": 169,
     "metadata": {},
     "output_type": "execute_result"
    }
   ],
   "source": [
    "# create new column year_since_remod\n",
    "housing['year_since_remod'] = housing['Yr Sold'] - housing['Year Remod/Add']\n",
    "\n",
    "# confirm there is no problemic data\n",
    "housing[housing['year_since_remod'] < 0 ]"
   ]
  },
  {
   "cell_type": "code",
   "execution_count": 170,
   "metadata": {
    "collapsed": false
   },
   "outputs": [
    {
     "data": {
      "text/html": [
       "<div>\n",
       "<style scoped>\n",
       "    .dataframe tbody tr th:only-of-type {\n",
       "        vertical-align: middle;\n",
       "    }\n",
       "\n",
       "    .dataframe tbody tr th {\n",
       "        vertical-align: top;\n",
       "    }\n",
       "\n",
       "    .dataframe thead th {\n",
       "        text-align: right;\n",
       "    }\n",
       "</style>\n",
       "<table border=\"1\" class=\"dataframe\">\n",
       "  <thead>\n",
       "    <tr style=\"text-align: right;\">\n",
       "      <th></th>\n",
       "      <th>Order</th>\n",
       "      <th>PID</th>\n",
       "      <th>MS SubClass</th>\n",
       "      <th>MS Zoning</th>\n",
       "      <th>Lot Area</th>\n",
       "      <th>Street</th>\n",
       "      <th>Lot Shape</th>\n",
       "      <th>Land Contour</th>\n",
       "      <th>Utilities</th>\n",
       "      <th>Lot Config</th>\n",
       "      <th>...</th>\n",
       "      <th>Screen Porch</th>\n",
       "      <th>Pool Area</th>\n",
       "      <th>Misc Val</th>\n",
       "      <th>Mo Sold</th>\n",
       "      <th>Yr Sold</th>\n",
       "      <th>Sale Type</th>\n",
       "      <th>Sale Condition</th>\n",
       "      <th>SalePrice</th>\n",
       "      <th>year_before_sale</th>\n",
       "      <th>year_since_remod</th>\n",
       "    </tr>\n",
       "  </thead>\n",
       "  <tbody>\n",
       "  </tbody>\n",
       "</table>\n",
       "<p>0 rows × 66 columns</p>\n",
       "</div>"
      ],
      "text/plain": [
       "Empty DataFrame\n",
       "Columns: [Order, PID, MS SubClass, MS Zoning, Lot Area, Street, Lot Shape, Land Contour, Utilities, Lot Config, Land Slope, Neighborhood, Condition 1, Condition 2, Bldg Type, House Style, Overall Qual, Overall Cond, Year Built, Year Remod/Add, Roof Style, Roof Matl, Exterior 1st, Exterior 2nd, Mas Vnr Area, Exter Qual, Exter Cond, Foundation, BsmtFin SF 1, BsmtFin SF 2, Bsmt Unf SF, Total Bsmt SF, Heating, Heating QC, Central Air, 1st Flr SF, 2nd Flr SF, Low Qual Fin SF, Gr Liv Area, Bsmt Full Bath, Bsmt Half Bath, Full Bath, Half Bath, Bedroom AbvGr, Kitchen AbvGr, Kitchen Qual, TotRms AbvGrd, Functional, Fireplaces, Garage Cars, Garage Area, Paved Drive, Wood Deck SF, Open Porch SF, Enclosed Porch, 3Ssn Porch, Screen Porch, Pool Area, Misc Val, Mo Sold, Yr Sold, Sale Type, Sale Condition, SalePrice, year_before_sale, year_since_remod]\n",
       "Index: []\n",
       "\n",
       "[0 rows x 66 columns]"
      ]
     },
     "execution_count": 170,
     "metadata": {},
     "output_type": "execute_result"
    }
   ],
   "source": [
    "# drop problemic row\n",
    "housing = housing.drop([1702, 2181], axis = 0)\n",
    "\n",
    "# confirm there is no problemic data\n",
    "housing[housing['year_since_remod'] < 0 ]"
   ]
  },
  {
   "cell_type": "code",
   "execution_count": 171,
   "metadata": {
    "collapsed": false
   },
   "outputs": [],
   "source": [
    "# drop useless year columns\n",
    "housing = housing.drop(['Yr Sold', 'Year Built', 'Year Remod/Add'], axis = 1)"
   ]
  },
  {
   "cell_type": "markdown",
   "metadata": {},
   "source": [
    "### Dropping columns which have are not useful"
   ]
  },
  {
   "cell_type": "code",
   "execution_count": 172,
   "metadata": {
    "collapsed": false
   },
   "outputs": [],
   "source": [
    "## drop columns that aren't useful for ML\n",
    "housing = housing.drop(['PID', 'Order'], axis=1)\n",
    "\n",
    "## drop columns which about the final sale\n",
    "housing = housing.drop(['Mo Sold', 'Sale Condition', 'Sale Type'], axis=1)"
   ]
  },
  {
   "cell_type": "markdown",
   "metadata": {},
   "source": [
    "### Low variance numerical features"
   ]
  },
  {
   "cell_type": "code",
   "execution_count": 173,
   "metadata": {
    "collapsed": false
   },
   "outputs": [
    {
     "name": "stdout",
     "output_type": "stream",
     "text": [
      "Misc Val            0.000928\n",
      "Lot Area            0.001345\n",
      "Low Qual Fin SF     0.001896\n",
      "Pool Area           0.001982\n",
      "3Ssn Porch          0.002452\n",
      "Enclosed Porch      0.004020\n",
      "Total Bsmt SF       0.005022\n",
      "Kitchen AbvGr       0.005097\n",
      "BsmtFin SF 1        0.006348\n",
      "1st Flr SF          0.007742\n",
      "Wood Deck SF        0.007844\n",
      "Open Porch SF       0.008018\n",
      "Gr Liv Area         0.008794\n",
      "Screen Porch        0.009491\n",
      "Bedroom AbvGr       0.010712\n",
      "SalePrice           0.011593\n",
      "Mas Vnr Area        0.012250\n",
      "BsmtFin SF 2        0.012297\n",
      "Bsmt Half Bath      0.014967\n",
      "TotRms AbvGrd       0.016976\n",
      "Full Bath           0.019077\n",
      "Overall Cond        0.019320\n",
      "Garage Area         0.020827\n",
      "Garage Cars         0.023113\n",
      "Overall Qual        0.024461\n",
      "Fireplaces          0.026216\n",
      "Bsmt Full Bath      0.030597\n",
      "Bsmt Unf SF         0.035351\n",
      "2nd Flr SF          0.042953\n",
      "year_before_sale    0.049585\n",
      "MS SubClass         0.062954\n",
      "Half Bath           0.063125\n",
      "year_since_remod    0.120806\n",
      "dtype: float64\n"
     ]
    }
   ],
   "source": [
    "# check variance of numerical features\n",
    "numeric_cols = housing.select_dtypes(include=['integer', 'float']).columns\n",
    "unit_housing = (\n",
    "                housing[numeric_cols] - housing[numeric_cols].min()\n",
    "                ) / (\n",
    "                housing[numeric_cols].max() - housing[numeric_cols].min())\n",
    "\n",
    "print(unit_housing.var().sort_values())"
   ]
  },
  {
   "cell_type": "markdown",
   "metadata": {},
   "source": [
    "There is no numerical feature with variance equal to 0.3 or lower."
   ]
  },
  {
   "cell_type": "markdown",
   "metadata": {},
   "source": [
    "## Updating transform_features()"
   ]
  },
  {
   "cell_type": "code",
   "execution_count": 174,
   "metadata": {
    "collapsed": false
   },
   "outputs": [
    {
     "name": "stdout",
     "output_type": "stream",
     "text": [
      "55275.36731241307\n"
     ]
    }
   ],
   "source": [
    "def transform_features(df):\n",
    "    '''\n",
    "    This function is designed to clean data and transform some features into useful features.\n",
    "    '''\n",
    "    # find out the number of missing values in each column\n",
    "    num_missing = df.isnull().sum()\n",
    "    # filter out columns with 5% or more missing values\n",
    "    drop_missing_cols = num_missing[num_missing/len(df) >= 0.05].index\n",
    "    df = df.drop(drop_missing_cols, axis=1)\n",
    "    \n",
    "    # filter out text columns \n",
    "    text_cols_mv = df.select_dtypes(include=['object']).isnull().sum()\n",
    "    # filter out text columns with 1 or more missing values\n",
    "    drop_text_cols = text_cols_mv[text_cols_mv > 0].index\n",
    "    df = df.drop(drop_text_cols, axis=1)\n",
    "    \n",
    "    # filter out numerical columns which need to be fixed\n",
    "    numeric_cols_mv = df.select_dtypes(include=['integer', 'float']).isnull().sum()\n",
    "    fixing_num_cols = numeric_cols_mv[numeric_cols_mv > 0]\n",
    "    # find out common value in those columns\n",
    "    replacing_value = df[fixing_num_cols.index].mode().to_dict(orient='records')[0]\n",
    "    # replace missing vlaues\n",
    "    df = df.fillna(replacing_value)\n",
    "    \n",
    "    # create new column year_before_sale\n",
    "    df['year_before_sale'] = df['Yr Sold'] - df['Year Built']\n",
    "    \n",
    "    # create new column year_since_remod\n",
    "    df['year_since_remod'] = df['Yr Sold'] - df['Year Remod/Add']\n",
    "\n",
    "    # drop problemic row\n",
    "    df = df.drop([2180, 1702, 2181], axis = 0)\n",
    "    \n",
    "    # drop useless columns\n",
    "    df = df.drop(['Yr Sold', 'Year Built', 'Year Remod/Add', 'PID', 'Order', \n",
    "                            'Mo Sold', 'Sale Condition', 'Sale Type'], axis = 1)\n",
    "    return df\n",
    "\n",
    "def select_features(df):\n",
    "    '''\n",
    "    This function is designed to select the feature column(s).\n",
    "    '''\n",
    "    return df[['Gr Liv Area', 'SalePrice']]\n",
    "\n",
    "def train_and_test(df):\n",
    "    '''\n",
    "    This function is designed to train and test the Linear Regression model\n",
    "    '''\n",
    "    train = df[:1460]\n",
    "    test = df[1460:]\n",
    "    \n",
    "    numeric_train = train.select_dtypes(include = ['integer', 'float'])\n",
    "    numeric_test = test.select_dtypes(include = ['integer', 'float'])\n",
    "    \n",
    "    \n",
    "    features = numeric_train.columns.tolist()\n",
    "    features.remove('SalePrice')\n",
    "    lr = LinearRegression()\n",
    "    lr.fit(numeric_train[features], numeric_train['SalePrice'])\n",
    "    predictions = lr.predict(numeric_test[features])\n",
    "    rmse = np.sqrt(mean_squared_error(predictions, numeric_test['SalePrice']))\n",
    "    return rmse\n",
    "\n",
    "housing = pd.read_csv('AmesHousing.tsv', delimiter = '\\t')\n",
    "transformed_housing = transform_features(housing)\n",
    "selected_housing = select_features(transformed_housing)\n",
    "rmse = train_and_test(selected_housing)\n",
    "\n",
    "print(rmse)"
   ]
  },
  {
   "cell_type": "markdown",
   "metadata": {},
   "source": [
    "## Feature selection\n",
    "In this session, I am going to select the suitable features for the model\n",
    "\n",
    "\n",
    "### Correlation heatmap\n",
    "First, I will use a correlation heatmap matrix to examine and find out the numerical features which correlate strongly with the target column, SalePrice."
   ]
  },
  {
   "cell_type": "code",
   "execution_count": 175,
   "metadata": {
    "collapsed": false
   },
   "outputs": [
    {
     "data": {
      "text/plain": [
       "BsmtFin SF 2        0.006127\n",
       "Misc Val            0.019273\n",
       "3Ssn Porch          0.032268\n",
       "Bsmt Half Bath      0.035875\n",
       "Low Qual Fin SF     0.037629\n",
       "Pool Area           0.068438\n",
       "MS SubClass         0.085128\n",
       "Overall Cond        0.101540\n",
       "Screen Porch        0.112280\n",
       "Kitchen AbvGr       0.119760\n",
       "Enclosed Porch      0.128685\n",
       "Bedroom AbvGr       0.143916\n",
       "Bsmt Unf SF         0.182751\n",
       "Lot Area            0.267520\n",
       "2nd Flr SF          0.269601\n",
       "Bsmt Full Bath      0.276258\n",
       "Half Bath           0.284871\n",
       "Open Porch SF       0.316262\n",
       "Wood Deck SF        0.328183\n",
       "BsmtFin SF 1        0.439284\n",
       "Fireplaces          0.474831\n",
       "TotRms AbvGrd       0.498574\n",
       "Mas Vnr Area        0.506983\n",
       "year_since_remod    0.534985\n",
       "Full Bath           0.546118\n",
       "year_before_sale    0.558979\n",
       "1st Flr SF          0.635185\n",
       "Garage Area         0.641425\n",
       "Total Bsmt SF       0.644012\n",
       "Garage Cars         0.648361\n",
       "Gr Liv Area         0.717596\n",
       "Overall Qual        0.801206\n",
       "SalePrice           1.000000\n",
       "Name: SalePrice, dtype: float64"
      ]
     },
     "execution_count": 175,
     "metadata": {},
     "output_type": "execute_result"
    }
   ],
   "source": [
    "numeric_housing = transformed_housing.select_dtypes(include=['integer', 'float'])\n",
    "abs_corr_coeffs = numeric_housing.corr()['SalePrice'].abs().sort_values()\n",
    "abs_corr_coeffs"
   ]
  },
  {
   "cell_type": "markdown",
   "metadata": {},
   "source": [
    "For now, only columns with correlation coefficient of larger than 0.4 with SalePrice will be kept. (arbitrary, worth experimenting later!)"
   ]
  },
  {
   "cell_type": "code",
   "execution_count": 176,
   "metadata": {
    "collapsed": false
   },
   "outputs": [],
   "source": [
    "# drop columns with correlation coefficient of lesser than 0.4 with SalePrice\n",
    "transformed_housing = transformed_housing.drop(abs_corr_coeffs[abs_corr_coeffs < 0.4].index, axis=1)"
   ]
  },
  {
   "cell_type": "markdown",
   "metadata": {},
   "source": [
    "### Converting to the categorical data type\n",
    "I will select some text columns and convert them to categorical data type."
   ]
  },
  {
   "cell_type": "code",
   "execution_count": 177,
   "metadata": {
    "collapsed": false
   },
   "outputs": [
    {
     "data": {
      "text/plain": [
       "Index(['MS Zoning', 'Street', 'Lot Shape', 'Land Contour', 'Utilities',\n",
       "       'Lot Config', 'Land Slope', 'Neighborhood', 'Condition 1',\n",
       "       'Condition 2', 'Bldg Type', 'House Style', 'Roof Style', 'Roof Matl',\n",
       "       'Exterior 1st', 'Exterior 2nd', 'Exter Qual', 'Exter Cond',\n",
       "       'Foundation', 'Heating', 'Heating QC', 'Central Air', 'Kitchen Qual',\n",
       "       'Functional', 'Paved Drive'],\n",
       "      dtype='object')"
      ]
     },
     "execution_count": 177,
     "metadata": {},
     "output_type": "execute_result"
    }
   ],
   "source": [
    "# select text columns\n",
    "text_cols = transformed_housing.select_dtypes(include=['object']).columns\n",
    "\n",
    "text_cols"
   ]
  },
  {
   "cell_type": "markdown",
   "metadata": {},
   "source": [
    "From the documentation, I believe the following columns are meant to be categorical"
   ]
  },
  {
   "cell_type": "code",
   "execution_count": 178,
   "metadata": {
    "collapsed": false
   },
   "outputs": [],
   "source": [
    "nominal_features = [\"PID\", \"MS SubClass\", \"MS Zoning\", \"Street\", \"Alley\", \"Land Contour\", \"Lot Config\", \"Neighborhood\", \n",
    "                    \"Condition 1\", \"Condition 2\", \"Bldg Type\", \"House Style\", \"Roof Style\", \"Roof Matl\", \"Exterior 1st\", \n",
    "                    \"Exterior 2nd\", \"Mas Vnr Type\", \"Foundation\", \"Heating\", \"Central Air\", \"Garage Type\", \n",
    "                    \"Misc Feature\", \"Sale Type\", \"Sale Condition\"]"
   ]
  },
  {
   "cell_type": "code",
   "execution_count": 179,
   "metadata": {
    "collapsed": false
   },
   "outputs": [
    {
     "data": {
      "text/plain": [
       "Street           2\n",
       "Central Air      2\n",
       "Land Contour     4\n",
       "Lot Config       5\n",
       "Bldg Type        5\n",
       "Roof Style       6\n",
       "Foundation       6\n",
       "Heating          6\n",
       "MS Zoning        7\n",
       "Condition 2      8\n",
       "House Style      8\n",
       "Roof Matl        8\n",
       "Condition 1      9\n",
       "Exterior 1st    16\n",
       "Exterior 2nd    17\n",
       "Neighborhood    28\n",
       "dtype: int64"
      ]
     },
     "execution_count": 179,
     "metadata": {},
     "output_type": "execute_result"
    }
   ],
   "source": [
    "# filter the text list with the categorical column list\n",
    "transform_cat_cols = []\n",
    "for col in text_cols:\n",
    "    if col in nominal_features:\n",
    "        transform_cat_cols.append(col)\n",
    "\n",
    "# compute the unique value in each slected column\n",
    "uniqueness_counts = transformed_housing[\n",
    "    transform_cat_cols].apply(lambda col: len(col.value_counts())).sort_values()\n",
    "\n",
    "uniqueness_counts"
   ]
  },
  {
   "cell_type": "markdown",
   "metadata": {},
   "source": [
    "Only columns with 10 or lesser unique values will be kept. (arbitrary, worth experimenting later!)"
   ]
  },
  {
   "cell_type": "code",
   "execution_count": 180,
   "metadata": {
    "collapsed": false
   },
   "outputs": [],
   "source": [
    "# drop text columns which have more than 10 unique values\n",
    "drop_text_cols = uniqueness_counts[uniqueness_counts > 10].index\n",
    "transformed_housing = transformed_housing.drop(drop_text_cols, axis=1)\n",
    "\n",
    "# convert to the categorical data type\n",
    "text_cols = transformed_housing.select_dtypes(include=['object']).columns\n",
    "for col in text_cols:\n",
    "     transformed_housing[col] = transformed_housing[col].astype('category')"
   ]
  },
  {
   "cell_type": "markdown",
   "metadata": {},
   "source": [
    "### Low variance text features"
   ]
  },
  {
   "cell_type": "code",
   "execution_count": 181,
   "metadata": {
    "collapsed": false
   },
   "outputs": [
    {
     "name": "stdout",
     "output_type": "stream",
     "text": [
      "AllPub    2924\n",
      "NoSewr       2\n",
      "NoSeWa       1\n",
      "Name: Utilities, dtype: int64\n",
      "Gtl    2786\n",
      "Mod     125\n",
      "Sev      16\n",
      "Name: Land Slope, dtype: int64\n"
     ]
    }
   ],
   "source": [
    "# examinate feature variance\n",
    "low_var_features = []\n",
    "for col in text_cols:\n",
    "    if transformed_housing[col].value_counts()[0]/len(transformed_housing) > 0.95:\n",
    "        print(transformed_housing[col].value_counts())\n",
    "        text_cols = text_cols.drop(col)\n",
    "        low_var_features.append(col)"
   ]
  },
  {
   "cell_type": "markdown",
   "metadata": {},
   "source": [
    "Categorical columns which have a few unique values but more than 95% of the values in the column belong to a specific category are considered as low variance features. The columns will be removed."
   ]
  },
  {
   "cell_type": "code",
   "execution_count": 182,
   "metadata": {
    "collapsed": false
   },
   "outputs": [],
   "source": [
    "# remove low variance features\n",
    "transformed_housing = transformed_housing.drop(low_var_features, axis=1)\n",
    "\n",
    "# apply dummy coding for selected columns\n",
    "for col in text_cols:\n",
    "    col_dummy = pd.get_dummies(transformed_housing[col])\n",
    "    transformed_housing = pd.concat([transformed_housing, col_dummy], axis=1)\n",
    "    del transformed_housing[col]"
   ]
  },
  {
   "cell_type": "markdown",
   "metadata": {},
   "source": [
    "## Update select_features()"
   ]
  },
  {
   "cell_type": "code",
   "execution_count": 183,
   "metadata": {
    "collapsed": false
   },
   "outputs": [
    {
     "name": "stdout",
     "output_type": "stream",
     "text": [
      "36623.53562910476\n"
     ]
    }
   ],
   "source": [
    "def transform_features(df):\n",
    "    '''\n",
    "    This function is designed to clean data and transform some features into useful features.\n",
    "    '''\n",
    "    # find out the number of missing values in each column\n",
    "    num_missing = df.isnull().sum()\n",
    "    # filter out columns with 5% or more missing values\n",
    "    drop_missing_cols = num_missing[num_missing/len(df) >= 0.05].index\n",
    "    df = df.drop(drop_missing_cols, axis=1)\n",
    "    \n",
    "    # filter out text columns \n",
    "    text_cols_mv = df.select_dtypes(include=['object']).isnull().sum()\n",
    "    # filter out text columns with 1 or more missing values\n",
    "    drop_text_cols = text_cols_mv[text_cols_mv > 0].index\n",
    "    df = df.drop(drop_text_cols, axis=1)\n",
    "    \n",
    "    # filter out numerical columns which need to be fixed\n",
    "    numeric_cols_mv = df.select_dtypes(include=['integer', 'float']).isnull().sum()\n",
    "    fixing_num_cols = numeric_cols_mv[numeric_cols_mv > 0]\n",
    "    # find out common value in those columns\n",
    "    replacing_value = df[fixing_num_cols.index].mode().to_dict(orient='records')[0]\n",
    "    # replace missing vlaues\n",
    "    df = df.fillna(replacing_value)\n",
    "    \n",
    "    # create new column year_before_sale\n",
    "    df['year_before_sale'] = df['Yr Sold'] - df['Year Built']\n",
    "    \n",
    "    # create new column year_since_remod\n",
    "    df['year_since_remod'] = df['Yr Sold'] - df['Year Remod/Add']\n",
    "\n",
    "    # drop problemic row\n",
    "    df = df.drop([2180, 1702, 2181], axis = 0)\n",
    "    \n",
    "    # drop useless columns\n",
    "    df = df.drop(['Yr Sold', 'Year Built', 'Year Remod/Add', 'PID', 'Order', \n",
    "                            'Mo Sold', 'Sale Condition', 'Sale Type'], axis = 1)\n",
    "    return df\n",
    "\n",
    "def select_features(df):\n",
    "    '''\n",
    "    This function is designed to select the feature column(s).\n",
    "    '''\n",
    "    # drop columns with correlation coefficient of lesser than 0.4 with SalePrice\n",
    "    numeric_housing = df.select_dtypes(include=['integer', 'float'])\n",
    "    abs_corr_coeffs = numeric_housing.corr()['SalePrice'].abs().sort_values()\n",
    "    df = df.drop(abs_corr_coeffs[abs_corr_coeffs < 0.4].index, axis=1)\n",
    "    \n",
    "    # select text columns\n",
    "    text_cols = df.select_dtypes(include=['object']).columns\n",
    "    nominal_features = [\"PID\", \"MS SubClass\", \"MS Zoning\", \"Street\", \"Alley\", \"Land Contour\", \"Lot Config\", \"Neighborhood\", \n",
    "                    \"Condition 1\", \"Condition 2\", \"Bldg Type\", \"House Style\", \"Roof Style\", \"Roof Matl\", \"Exterior 1st\", \n",
    "                    \"Exterior 2nd\", \"Mas Vnr Type\", \"Foundation\", \"Heating\", \"Central Air\", \"Garage Type\", \n",
    "                    \"Misc Feature\", \"Sale Type\", \"Sale Condition\"]\n",
    "    # filter the text list with the categorical column list\n",
    "    transform_cat_cols = []\n",
    "    for col in text_cols:\n",
    "        if col in nominal_features:\n",
    "            transform_cat_cols.append(col)\n",
    "    # compute the unique value in each slected column\n",
    "    uniqueness_counts = transformed_housing[\n",
    "    transform_cat_cols].apply(lambda col: len(col.value_counts())).sort_values()\n",
    "    # drop text columns which have more than 10 unique values\n",
    "    drop_text_cols = uniqueness_counts[uniqueness_counts > 10].index\n",
    "    df = df.drop(drop_text_cols, axis=1)\n",
    "    # convert to the categorical data type\n",
    "    text_cols = df.select_dtypes(include=['object']).columns\n",
    "    for col in text_cols:\n",
    "         df[col] = df[col].astype('category')\n",
    "            \n",
    "    # examinate feature variance\n",
    "    low_var_features = []\n",
    "    for col in text_cols:\n",
    "        if df[col].value_counts()[0]/len(df) > 0.95:\n",
    "            text_cols = text_cols.drop(col)\n",
    "            low_var_features.append(col)\n",
    "            \n",
    "    # remove low variance features\n",
    "    df = df.drop(low_var_features, axis=1)\n",
    "\n",
    "    # apply dummy coding for selected columns\n",
    "    for col in text_cols:\n",
    "        col_dummy = pd.get_dummies(df[col])\n",
    "        df = pd.concat([df, col_dummy], axis=1)\n",
    "        del df[col]\n",
    "    \n",
    "    return df\n",
    "\n",
    "def train_and_test(df):\n",
    "    '''\n",
    "    This function is designed to train and test the Linear Regression model\n",
    "    '''\n",
    "    train = df[:1460]\n",
    "    test = df[1460:]\n",
    "    \n",
    "    numeric_train = train.select_dtypes(include = ['integer', 'float'])\n",
    "    numeric_test = test.select_dtypes(include = ['integer', 'float'])\n",
    "    \n",
    "    \n",
    "    features = numeric_train.columns.tolist()\n",
    "    features.remove('SalePrice')\n",
    "    lr = LinearRegression()\n",
    "    lr.fit(numeric_train[features], numeric_train['SalePrice'])\n",
    "    predictions = lr.predict(numeric_test[features])\n",
    "    rmse = np.sqrt(mean_squared_error(predictions, numeric_test['SalePrice']))\n",
    "    return rmse\n",
    "\n",
    "housing = pd.read_csv('AmesHousing.tsv', delimiter = '\\t')\n",
    "transformed_housing = transform_features(housing)\n",
    "selected_housing = select_features(transformed_housing)\n",
    "rmse = train_and_test(selected_housing)\n",
    "\n",
    "print(rmse)"
   ]
  },
  {
   "cell_type": "markdown",
   "metadata": {
    "collapsed": true
   },
   "source": [
    "## Update train_and_test() by including k parameter"
   ]
  },
  {
   "cell_type": "code",
   "execution_count": 192,
   "metadata": {
    "collapsed": false
   },
   "outputs": [
    {
     "name": "stdout",
     "output_type": "stream",
     "text": [
      "[25516.92158091976, 28525.929455058376, 25321.09118729429, 36540.67879765745]\n",
      "28976.155255232472\n"
     ]
    }
   ],
   "source": [
    "def transform_features(df):\n",
    "    '''\n",
    "    This function is designed to clean data and transform some features into useful features.\n",
    "    '''\n",
    "    # find out the number of missing values in each column\n",
    "    num_missing = df.isnull().sum()\n",
    "    # filter out columns with 5% or more missing values\n",
    "    drop_missing_cols = num_missing[num_missing/len(df) >= 0.05].index\n",
    "    df = df.drop(drop_missing_cols, axis=1)\n",
    "    \n",
    "    # filter out text columns \n",
    "    text_cols_mv = df.select_dtypes(include=['object']).isnull().sum()\n",
    "    # filter out text columns with 1 or more missing values\n",
    "    drop_text_cols = text_cols_mv[text_cols_mv > 0].index\n",
    "    df = df.drop(drop_text_cols, axis=1)\n",
    "    \n",
    "    # filter out numerical columns which need to be fixed\n",
    "    numeric_cols_mv = df.select_dtypes(include=['integer', 'float']).isnull().sum()\n",
    "    fixing_num_cols = numeric_cols_mv[numeric_cols_mv > 0]\n",
    "    # find out common value in those columns\n",
    "    replacing_value = df[fixing_num_cols.index].mode().to_dict(orient='records')[0]\n",
    "    # replace missing vlaues\n",
    "    df = df.fillna(replacing_value)\n",
    "    \n",
    "    # create new column year_before_sale\n",
    "    df['year_before_sale'] = df['Yr Sold'] - df['Year Built']\n",
    "    \n",
    "    # create new column year_since_remod\n",
    "    df['year_since_remod'] = df['Yr Sold'] - df['Year Remod/Add']\n",
    "\n",
    "    # drop problemic row\n",
    "    df = df.drop([2180, 1702, 2181], axis = 0)\n",
    "    \n",
    "    # drop useless columns\n",
    "    df = df.drop(['Yr Sold', 'Year Built', 'Year Remod/Add', 'PID', 'Order', \n",
    "                            'Mo Sold', 'Sale Condition', 'Sale Type'], axis = 1)\n",
    "    return df\n",
    "\n",
    "def select_features(df, coeff_threshold=0.4, uniq_threshold=10, variance_threshold=0.95):\n",
    "    '''\n",
    "    This function is designed to select the feature column(s).\n",
    "    '''\n",
    "    # drop columns with correlation coefficient of lesser than coeff_threshold with SalePrice\n",
    "    numeric_housing = df.select_dtypes(include=['integer', 'float'])\n",
    "    abs_corr_coeffs = numeric_housing.corr()['SalePrice'].abs().sort_values()\n",
    "    df = df.drop(abs_corr_coeffs[abs_corr_coeffs < coeff_threshold].index, axis=1)\n",
    "    \n",
    "    # select text columns\n",
    "    text_cols = df.select_dtypes(include=['object']).columns\n",
    "    nominal_features = [\"PID\", \"MS SubClass\", \"MS Zoning\", \"Street\", \"Alley\", \"Land Contour\", \"Lot Config\", \"Neighborhood\", \n",
    "                    \"Condition 1\", \"Condition 2\", \"Bldg Type\", \"House Style\", \"Roof Style\", \"Roof Matl\", \"Exterior 1st\", \n",
    "                    \"Exterior 2nd\", \"Mas Vnr Type\", \"Foundation\", \"Heating\", \"Central Air\", \"Garage Type\", \n",
    "                    \"Misc Feature\", \"Sale Type\", \"Sale Condition\"]\n",
    "    # filter the text list with the categorical column list\n",
    "    transform_cat_cols = []\n",
    "    for col in text_cols:\n",
    "        if col in nominal_features:\n",
    "            transform_cat_cols.append(col)\n",
    "    # compute the unique value in each slected column\n",
    "    uniqueness_counts = transformed_housing[\n",
    "        transform_cat_cols].apply(lambda col: len(col.value_counts())).sort_values()\n",
    "    # drop text columns which have more than uniq_threshold\n",
    "    drop_text_cols = uniqueness_counts[uniqueness_counts > uniq_threshold].index\n",
    "    df = df.drop(drop_text_cols, axis=1)\n",
    "    # convert to the categorical data type\n",
    "    text_cols = df.select_dtypes(include=['object']).columns\n",
    "    for col in text_cols:\n",
    "         df[col] = df[col].astype('category')\n",
    "            \n",
    "    # examinate feature variance\n",
    "    low_var_features = []\n",
    "    for col in text_cols:\n",
    "        if df[col].value_counts()[0]/len(df) > variance_threshold:\n",
    "            text_cols = text_cols.drop(col)\n",
    "            low_var_features.append(col)\n",
    "            \n",
    "    # remove low variance features\n",
    "    df = df.drop(low_var_features, axis=1)\n",
    "\n",
    "    # apply dummy coding for selected columns\n",
    "    for col in text_cols:\n",
    "        col_dummy = pd.get_dummies(df[col])\n",
    "        df = pd.concat([df, col_dummy], axis=1)\n",
    "        del df[col]\n",
    "    \n",
    "    return df\n",
    "\n",
    "def train_and_test(df, k=0):\n",
    "    '''\n",
    "    This function is designed to train and test the Linear Regression model\n",
    "    '''\n",
    "    lr = LinearRegression()\n",
    "    numeric_df = df.select_dtypes(include=['integer', 'float'])\n",
    "    features = numeric_df.columns.tolist()\n",
    "    features.remove('SalePrice')\n",
    "    \n",
    "    if k == 0:\n",
    "    \n",
    "        train = df[:1460]\n",
    "        test = df[1460:]\n",
    "\n",
    "        lr.fit(train[features], train['SalePrice'])\n",
    "        predictions = lr.predict(test[features])\n",
    "        rmse = np.sqrt(mean_squared_error(predictions, test['SalePrice']))\n",
    "        \n",
    "        return rmse\n",
    "    \n",
    "    if k == 1:\n",
    "        \n",
    "        # randomize the order of a DataFrame\n",
    "        shuffled_df = df.sample(frac=1,)\n",
    "        fold_one = shuffled_df[:1460]\n",
    "        fold_two = shuffled_df[1460:]\n",
    "        \n",
    "        lr.fit(fold_one[features], fold_one['SalePrice'])\n",
    "        predictions = lr.predict(fold_two[features])\n",
    "        rmse_1 = np.sqrt(mean_squared_error(predictions, fold_two['SalePrice']))\n",
    "        \n",
    "        lr.fit(fold_two[features], fold_two['SalePrice'])\n",
    "        predictions = lr.predict(fold_one[features])\n",
    "        rmse_2 = np.sqrt(mean_squared_error(predictions, fold_one['SalePrice']))\n",
    "        \n",
    "        return np.mean([rmse_1, rmse_2])\n",
    "    \n",
    "    else:\n",
    "        \n",
    "        kf = KFold(n_splits=k, shuffle=True)\n",
    "        rmses = []\n",
    "        for train_index, test_index in kf.split(df):\n",
    "            train = df.iloc[train_index]\n",
    "            test = df.iloc[test_index]\n",
    "            lr.fit(train[features], train['SalePrice'])\n",
    "            predictions = lr.predict(test[features])\n",
    "            rmse = np.sqrt(mean_squared_error(predictions, test['SalePrice']))\n",
    "            rmses.append(rmse)\n",
    "        avg_rmse = np.mean(rmses) \n",
    "        print(rmses)   \n",
    "        return avg_rmse\n",
    "\n",
    "housing = pd.read_csv('AmesHousing.tsv', delimiter = '\\t')\n",
    "transformed_housing = transform_features(housing)\n",
    "selected_housing = select_features(transformed_housing, coeff_threshold=0.4, uniq_threshold=10, variance_threshold=0.95)\n",
    "rmse = train_and_test(selected_housing, k=4)\n",
    "\n",
    "print(rmse)"
   ]
  },
  {
   "cell_type": "markdown",
   "metadata": {},
   "source": [
    "## Conclusion:\n",
    "\n",
    "In this project, I built a model which can be used to predict the house sale prices. Then I used several Feature Engineering techniques, Feature selection techniques and k parameter to set up a pipeline of functions that will let us quickly iterate on different models. The RMES vaule has been decreased from 57088 at the beginning to 28976."
   ]
  }
 ],
 "metadata": {
  "anaconda-cloud": {},
  "kernelspec": {
   "display_name": "Python 3",
   "language": "python",
   "name": "python3"
  },
  "language_info": {
   "codemirror_mode": {
    "name": "ipython",
    "version": 3
   },
   "file_extension": ".py",
   "mimetype": "text/x-python",
   "name": "python",
   "nbconvert_exporter": "python",
   "pygments_lexer": "ipython3",
   "version": "3.4.3"
  }
 },
 "nbformat": 4,
 "nbformat_minor": 2
}
